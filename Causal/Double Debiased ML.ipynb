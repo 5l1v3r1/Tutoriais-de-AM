{
 "cells": [
  {
   "cell_type": "code",
   "execution_count": 1,
   "metadata": {},
   "outputs": [],
   "source": [
    "import pandas as pd\n",
    "import numpy as np\n",
    "from toolz.curried import *\n",
    "import patsy\n",
    "from itertools import product\n",
    "from matplotlib import pyplot as plt"
   ]
  },
  {
   "cell_type": "code",
   "execution_count": 2,
   "metadata": {},
   "outputs": [],
   "source": [
    "import pandas as pd\n",
    "import numpy as np\n",
    "import seaborn as sns\n",
    "from matplotlib import pyplot as plt\n",
    "from toolz.curried import *"
   ]
  },
  {
   "cell_type": "code",
   "execution_count": 3,
   "metadata": {},
   "outputs": [],
   "source": [
    "def make_confounded_data(N):\n",
    "\n",
    "    def get_severity(df):\n",
    "        return ((np.random.beta(1, 3, size=df.shape[0]) * (df[\"age\"] < 30)) +\n",
    "                (np.random.beta(3, 1.5, size=df.shape[0]) * (df[\"age\"] >= 30)))\n",
    "\n",
    "    def get_treatment(df):\n",
    "        return (.33 * df[\"sex\"] +\n",
    "                1.5 * df[\"severity\"] +  df[\"severity\"] ** 2 +\n",
    "                0.15 * np.random.normal(size=df.shape[0]))\n",
    "\n",
    "    def get_recovery(df):\n",
    "        return (2 +\n",
    "                0.5 * df[\"sex\"] +\n",
    "                0.03 * df[\"age\"] + 0.03 * ((df[\"age\"] * 0.1) ** 2) +\n",
    "                df[\"severity\"] + np.log(df[\"severity\"]) +\n",
    "                df[\"sex\"] * df[\"severity\"] -\n",
    "                df[\"medication\"])\n",
    "\n",
    "    np.random.seed(1111)\n",
    "    sexes = np.random.randint(0, 2, size=N)\n",
    "    ages = np.random.gamma(8, scale=4, size=N)\n",
    "    meds = np.random.beta(1, 1, size=N)\n",
    "\n",
    "    # dados com designação aleatória\n",
    "    df_rnd = pd.DataFrame(dict(sex=sexes, age=ages, medication=meds))\n",
    "    df_rnd['severity'] = get_severity(df_rnd)\n",
    "    df_rnd['recovery'] = get_recovery(df_rnd)\n",
    "\n",
    "    features = ['sex', 'age', 'severity', 'medication', 'recovery']\n",
    "    df_rnd = df_rnd[features]  # to enforce column order\n",
    "\n",
    "    # dados observacionais\n",
    "    df_obs = df_rnd.copy()\n",
    "    df_obs['medication'] = get_treatment(df_obs)\n",
    "    df_obs['recovery'] = get_recovery(df_obs)\n",
    "\n",
    "    # dados contrafactuais data\n",
    "    df_ctf = df_obs.copy()\n",
    "    df_ctf['medication'] = ((df_ctf['medication'] == 1) ^ 1).astype(float)\n",
    "    df_ctf['recovery'] = get_recovery(df_ctf)\n",
    "\n",
    "    return df_rnd, df_obs, df_ctf"
   ]
  },
  {
   "cell_type": "code",
   "execution_count": 4,
   "metadata": {},
   "outputs": [],
   "source": [
    "df_rnd, df_obs, df_ctf = make_confounded_data(10000)\n",
    "_, test_obs, _ = make_confounded_data(10000)"
   ]
  },
  {
   "cell_type": "code",
   "execution_count": 5,
   "metadata": {},
   "outputs": [
    {
     "data": {
      "text/html": [
       "<div>\n",
       "<style scoped>\n",
       "    .dataframe tbody tr th:only-of-type {\n",
       "        vertical-align: middle;\n",
       "    }\n",
       "\n",
       "    .dataframe tbody tr th {\n",
       "        vertical-align: top;\n",
       "    }\n",
       "\n",
       "    .dataframe thead th {\n",
       "        text-align: right;\n",
       "    }\n",
       "</style>\n",
       "<table border=\"1\" class=\"dataframe\">\n",
       "  <thead>\n",
       "    <tr style=\"text-align: right;\">\n",
       "      <th></th>\n",
       "      <th>sex</th>\n",
       "      <th>age</th>\n",
       "      <th>severity</th>\n",
       "      <th>medication</th>\n",
       "      <th>recovery</th>\n",
       "    </tr>\n",
       "  </thead>\n",
       "  <tbody>\n",
       "    <tr>\n",
       "      <th>0</th>\n",
       "      <td>0</td>\n",
       "      <td>35.857725</td>\n",
       "      <td>0.803739</td>\n",
       "      <td>1.842994</td>\n",
       "      <td>2.203728</td>\n",
       "    </tr>\n",
       "    <tr>\n",
       "      <th>1</th>\n",
       "      <td>1</td>\n",
       "      <td>26.162705</td>\n",
       "      <td>0.146388</td>\n",
       "      <td>0.621524</td>\n",
       "      <td>1.239984</td>\n",
       "    </tr>\n",
       "    <tr>\n",
       "      <th>2</th>\n",
       "      <td>1</td>\n",
       "      <td>25.284784</td>\n",
       "      <td>0.141124</td>\n",
       "      <td>0.942649</td>\n",
       "      <td>0.831819</td>\n",
       "    </tr>\n",
       "    <tr>\n",
       "      <th>3</th>\n",
       "      <td>1</td>\n",
       "      <td>41.616736</td>\n",
       "      <td>0.402925</td>\n",
       "      <td>1.258135</td>\n",
       "      <td>2.906798</td>\n",
       "    </tr>\n",
       "    <tr>\n",
       "      <th>4</th>\n",
       "      <td>0</td>\n",
       "      <td>22.062427</td>\n",
       "      <td>0.139728</td>\n",
       "      <td>0.153666</td>\n",
       "      <td>0.825900</td>\n",
       "    </tr>\n",
       "  </tbody>\n",
       "</table>\n",
       "</div>"
      ],
      "text/plain": [
       "   sex        age  severity  medication  recovery\n",
       "0    0  35.857725  0.803739    1.842994  2.203728\n",
       "1    1  26.162705  0.146388    0.621524  1.239984\n",
       "2    1  25.284784  0.141124    0.942649  0.831819\n",
       "3    1  41.616736  0.402925    1.258135  2.906798\n",
       "4    0  22.062427  0.139728    0.153666  0.825900"
      ]
     },
     "execution_count": 5,
     "metadata": {},
     "output_type": "execute_result"
    }
   ],
   "source": [
    "df_obs.head()"
   ]
  },
  {
   "cell_type": "code",
   "execution_count": 6,
   "metadata": {},
   "outputs": [
    {
     "data": {
      "image/png": "[encoded data removed]",
      "text/plain": [
       "<Figure size 432x288 with 2 Axes>"
      ]
     },
     "metadata": {
      "needs_background": "light"
     },
     "output_type": "display_data"
    }
   ],
   "source": [
    "sns.heatmap(df_rnd.corr())\n",
    "plt.show()"
   ]
  },
  {
   "cell_type": "code",
   "execution_count": 7,
   "metadata": {},
   "outputs": [
    {
     "data": {
      "image/png": "[encoded data removed]",
      "text/plain": [
       "<Figure size 432x288 with 2 Axes>"
      ]
     },
     "metadata": {
      "needs_background": "light"
     },
     "output_type": "display_data"
    }
   ],
   "source": [
    "sns.heatmap(df_obs.corr())\n",
    "plt.show()\n"
   ]
  },
  {
   "cell_type": "markdown",
   "metadata": {},
   "source": [
    "## Linear Regression"
   ]
  },
  {
   "cell_type": "code",
   "execution_count": 8,
   "metadata": {},
   "outputs": [],
   "source": [
    "import statsmodels.formula.api as smf"
   ]
  },
  {
   "cell_type": "code",
   "execution_count": 9,
   "metadata": {},
   "outputs": [
    {
     "data": {
      "text/plain": [
       "'recovery ~ sex + age + severity + medication'"
      ]
     },
     "execution_count": 9,
     "metadata": {},
     "output_type": "execute_result"
    }
   ],
   "source": [
    "forumla = \"recovery ~ sex + age + severity + medication\"\n",
    "forumla"
   ]
  },
  {
   "cell_type": "code",
   "execution_count": 10,
   "metadata": {},
   "outputs": [
    {
     "data": {
      "text/html": [
       "<table class=\"simpletable\">\n",
       "<caption>OLS Regression Results</caption>\n",
       "<tr>\n",
       "  <th>Dep. Variable:</th>        <td>recovery</td>     <th>  R-squared:         </th> <td>   0.829</td> \n",
       "</tr>\n",
       "<tr>\n",
       "  <th>Model:</th>                   <td>OLS</td>       <th>  Adj. R-squared:    </th> <td>   0.829</td> \n",
       "</tr>\n",
       "<tr>\n",
       "  <th>Method:</th>             <td>Least Squares</td>  <th>  F-statistic:       </th> <td>1.211e+04</td>\n",
       "</tr>\n",
       "<tr>\n",
       "  <th>Date:</th>             <td>Wed, 05 Jun 2019</td> <th>  Prob (F-statistic):</th>  <td>  0.00</td>  \n",
       "</tr>\n",
       "<tr>\n",
       "  <th>Time:</th>                 <td>22:22:15</td>     <th>  Log-Likelihood:    </th> <td> -7986.4</td> \n",
       "</tr>\n",
       "<tr>\n",
       "  <th>No. Observations:</th>      <td> 10000</td>      <th>  AIC:               </th> <td>1.598e+04</td>\n",
       "</tr>\n",
       "<tr>\n",
       "  <th>Df Residuals:</th>          <td>  9995</td>      <th>  BIC:               </th> <td>1.602e+04</td>\n",
       "</tr>\n",
       "<tr>\n",
       "  <th>Df Model:</th>              <td>     4</td>      <th>                     </th>     <td> </td>    \n",
       "</tr>\n",
       "<tr>\n",
       "  <th>Covariance Type:</th>      <td>nonrobust</td>    <th>                     </th>     <td> </td>    \n",
       "</tr>\n",
       "</table>\n",
       "<table class=\"simpletable\">\n",
       "<tr>\n",
       "       <td></td>         <th>coef</th>     <th>std err</th>      <th>t</th>      <th>P>|t|</th>  <th>[0.025</th>    <th>0.975]</th>  \n",
       "</tr>\n",
       "<tr>\n",
       "  <th>Intercept</th>  <td>   -1.3349</td> <td>    0.018</td> <td>  -75.306</td> <td> 0.000</td> <td>   -1.370</td> <td>   -1.300</td>\n",
       "</tr>\n",
       "<tr>\n",
       "  <th>sex</th>        <td>    1.2991</td> <td>    0.015</td> <td>   85.216</td> <td> 0.000</td> <td>    1.269</td> <td>    1.329</td>\n",
       "</tr>\n",
       "<tr>\n",
       "  <th>age</th>        <td>    0.0514</td> <td>    0.001</td> <td>   87.000</td> <td> 0.000</td> <td>    0.050</td> <td>    0.053</td>\n",
       "</tr>\n",
       "<tr>\n",
       "  <th>severity</th>   <td>    7.2146</td> <td>    0.083</td> <td>   86.812</td> <td> 0.000</td> <td>    7.052</td> <td>    7.377</td>\n",
       "</tr>\n",
       "<tr>\n",
       "  <th>medication</th> <td>   -2.0233</td> <td>    0.032</td> <td>  -62.274</td> <td> 0.000</td> <td>   -2.087</td> <td>   -1.960</td>\n",
       "</tr>\n",
       "</table>\n",
       "<table class=\"simpletable\">\n",
       "<tr>\n",
       "  <th>Omnibus:</th>       <td>7256.477</td> <th>  Durbin-Watson:     </th>  <td>   2.045</td> \n",
       "</tr>\n",
       "<tr>\n",
       "  <th>Prob(Omnibus):</th>  <td> 0.000</td>  <th>  Jarque-Bera (JB):  </th> <td>183513.117</td>\n",
       "</tr>\n",
       "<tr>\n",
       "  <th>Skew:</th>           <td>-3.212</td>  <th>  Prob(JB):          </th>  <td>    0.00</td> \n",
       "</tr>\n",
       "<tr>\n",
       "  <th>Kurtosis:</th>       <td>22.979</td>  <th>  Cond. No.          </th>  <td>    565.</td> \n",
       "</tr>\n",
       "</table><br/><br/>Warnings:<br/>[1] Standard Errors assume that the covariance matrix of the errors is correctly specified."
      ],
      "text/plain": [
       "<class 'statsmodels.iolib.summary.Summary'>\n",
       "\"\"\"\n",
       "                            OLS Regression Results                            \n",
       "==============================================================================\n",
       "Dep. Variable:               recovery   R-squared:                       0.829\n",
       "Model:                            OLS   Adj. R-squared:                  0.829\n",
       "Method:                 Least Squares   F-statistic:                 1.211e+04\n",
       "Date:                Wed, 05 Jun 2019   Prob (F-statistic):               0.00\n",
       "Time:                        22:22:15   Log-Likelihood:                -7986.4\n",
       "No. Observations:               10000   AIC:                         1.598e+04\n",
       "Df Residuals:                    9995   BIC:                         1.602e+04\n",
       "Df Model:                           4                                         \n",
       "Covariance Type:            nonrobust                                         \n",
       "==============================================================================\n",
       "                 coef    std err          t      P>|t|      [0.025      0.975]\n",
       "------------------------------------------------------------------------------\n",
       "Intercept     -1.3349      0.018    -75.306      0.000      -1.370      -1.300\n",
       "sex            1.2991      0.015     85.216      0.000       1.269       1.329\n",
       "age            0.0514      0.001     87.000      0.000       0.050       0.053\n",
       "severity       7.2146      0.083     86.812      0.000       7.052       7.377\n",
       "medication    -2.0233      0.032    -62.274      0.000      -2.087      -1.960\n",
       "==============================================================================\n",
       "Omnibus:                     7256.477   Durbin-Watson:                   2.045\n",
       "Prob(Omnibus):                  0.000   Jarque-Bera (JB):           183513.117\n",
       "Skew:                          -3.212   Prob(JB):                         0.00\n",
       "Kurtosis:                      22.979   Cond. No.                         565.\n",
       "==============================================================================\n",
       "\n",
       "Warnings:\n",
       "[1] Standard Errors assume that the covariance matrix of the errors is correctly specified.\n",
       "\"\"\""
      ]
     },
     "execution_count": 10,
     "metadata": {},
     "output_type": "execute_result"
    }
   ],
   "source": [
    "model = smf.ols(forumla, data=df_obs).fit()\n",
    "model.summary()"
   ]
  },
  {
   "cell_type": "code",
   "execution_count": 11,
   "metadata": {},
   "outputs": [],
   "source": [
    "a = model.summary()"
   ]
  },
  {
   "cell_type": "code",
   "execution_count": 12,
   "metadata": {},
   "outputs": [
    {
     "name": "stdout",
     "output_type": "stream",
     "text": [
      "<table class=\"simpletable\">\n",
      "<caption>OLS Regression Results</caption>\n",
      "<tr>\n",
      "  <th>Dep. Variable:</th>        <td>recovery</td>     <th>  R-squared:         </th> <td>   0.829</td> \n",
      "</tr>\n",
      "<tr>\n",
      "  <th>Model:</th>                   <td>OLS</td>       <th>  Adj. R-squared:    </th> <td>   0.829</td> \n",
      "</tr>\n",
      "<tr>\n",
      "  <th>Method:</th>             <td>Least Squares</td>  <th>  F-statistic:       </th> <td>1.211e+04</td>\n",
      "</tr>\n",
      "<tr>\n",
      "  <th>Date:</th>             <td>Wed, 05 Jun 2019</td> <th>  Prob (F-statistic):</th>  <td>  0.00</td>  \n",
      "</tr>\n",
      "<tr>\n",
      "  <th>Time:</th>                 <td>22:22:15</td>     <th>  Log-Likelihood:    </th> <td> -7986.4</td> \n",
      "</tr>\n",
      "<tr>\n",
      "  <th>No. Observations:</th>      <td> 10000</td>      <th>  AIC:               </th> <td>1.598e+04</td>\n",
      "</tr>\n",
      "<tr>\n",
      "  <th>Df Residuals:</th>          <td>  9995</td>      <th>  BIC:               </th> <td>1.602e+04</td>\n",
      "</tr>\n",
      "<tr>\n",
      "  <th>Df Model:</th>              <td>     4</td>      <th>                     </th>     <td> </td>    \n",
      "</tr>\n",
      "<tr>\n",
      "  <th>Covariance Type:</th>      <td>nonrobust</td>    <th>                     </th>     <td> </td>    \n",
      "</tr>\n",
      "</table>\n",
      "<table class=\"simpletable\">\n",
      "<tr>\n",
      "       <td></td>         <th>coef</th>     <th>std err</th>      <th>t</th>      <th>P>|t|</th>  <th>[0.025</th>    <th>0.975]</th>  \n",
      "</tr>\n",
      "<tr>\n",
      "  <th>Intercept</th>  <td>   -1.3349</td> <td>    0.018</td> <td>  -75.306</td> <td> 0.000</td> <td>   -1.370</td> <td>   -1.300</td>\n",
      "</tr>\n",
      "<tr>\n",
      "  <th>sex</th>        <td>    1.2991</td> <td>    0.015</td> <td>   85.216</td> <td> 0.000</td> <td>    1.269</td> <td>    1.329</td>\n",
      "</tr>\n",
      "<tr>\n",
      "  <th>age</th>        <td>    0.0514</td> <td>    0.001</td> <td>   87.000</td> <td> 0.000</td> <td>    0.050</td> <td>    0.053</td>\n",
      "</tr>\n",
      "<tr>\n",
      "  <th>severity</th>   <td>    7.2146</td> <td>    0.083</td> <td>   86.812</td> <td> 0.000</td> <td>    7.052</td> <td>    7.377</td>\n",
      "</tr>\n",
      "<tr>\n",
      "  <th>medication</th> <td>   -2.0233</td> <td>    0.032</td> <td>  -62.274</td> <td> 0.000</td> <td>   -2.087</td> <td>   -1.960</td>\n",
      "</tr>\n",
      "</table>\n",
      "<table class=\"simpletable\">\n",
      "<tr>\n",
      "  <th>Omnibus:</th>       <td>7256.477</td> <th>  Durbin-Watson:     </th>  <td>   2.045</td> \n",
      "</tr>\n",
      "<tr>\n",
      "  <th>Prob(Omnibus):</th>  <td> 0.000</td>  <th>  Jarque-Bera (JB):  </th> <td>183513.117</td>\n",
      "</tr>\n",
      "<tr>\n",
      "  <th>Skew:</th>           <td>-3.212</td>  <th>  Prob(JB):          </th>  <td>    0.00</td> \n",
      "</tr>\n",
      "<tr>\n",
      "  <th>Kurtosis:</th>       <td>22.979</td>  <th>  Cond. No.          </th>  <td>    565.</td> \n",
      "</tr>\n",
      "</table><br/><br/>Warnings:<br/>[1] Standard Errors assume that the covariance matrix of the errors is correctly specified.\n"
     ]
    }
   ],
   "source": [
    "print(a.as_html())"
   ]
  },
  {
   "cell_type": "markdown",
   "metadata": {},
   "source": [
    "## Naive ML"
   ]
  },
  {
   "cell_type": "code",
   "execution_count": 13,
   "metadata": {},
   "outputs": [],
   "source": [
    "from sklearn.ensemble import RandomForestRegressor\n",
    "from sklearn.model_selection import cross_val_score\n",
    "np.random.seed(42)"
   ]
  },
  {
   "cell_type": "code",
   "execution_count": 14,
   "metadata": {},
   "outputs": [],
   "source": [
    "X = df_obs.drop(\"recovery\", axis=1)\n",
    "y = df_obs[\"recovery\"]"
   ]
  },
  {
   "cell_type": "code",
   "execution_count": 15,
   "metadata": {},
   "outputs": [
    {
     "name": "stdout",
     "output_type": "stream",
     "text": [
      "[0.98021918 0.9791305  0.98123157 0.9780086  0.97888076]\n"
     ]
    }
   ],
   "source": [
    "model = RandomForestRegressor(max_depth=6, n_estimators=100, n_jobs=-1)\n",
    "print(cross_val_score(model, X, y, cv=5))"
   ]
  },
  {
   "cell_type": "code",
   "execution_count": 16,
   "metadata": {},
   "outputs": [],
   "source": [
    "np.random.seed(42)\n",
    "model.fit(X, y)\n",
    "med_level = np.arange(0, 4, 0.1)\n",
    "y_hats = [model.predict(X.assign(medication = med)).mean() for med in med_level]"
   ]
  },
  {
   "cell_type": "code",
   "execution_count": 17,
   "metadata": {},
   "outputs": [
    {
     "data": {
      "image/png": "[encoded data removed]",
      "text/plain": [
       "<Figure size 432x288 with 1 Axes>"
      ]
     },
     "metadata": {
      "needs_background": "light"
     },
     "output_type": "display_data"
    }
   ],
   "source": [
    "plt.plot(med_level, y_hats)\n",
    "plt.xlabel(\"Medication Level\")\n",
    "plt.ylabel(\"Average Prediction of Recovery\")\n",
    "plt.show()"
   ]
  },
  {
   "cell_type": "markdown",
   "metadata": {},
   "source": [
    "## Double ML"
   ]
  },
  {
   "cell_type": "code",
   "execution_count": 18,
   "metadata": {},
   "outputs": [],
   "source": [
    "from sklearn.ensemble import RandomForestRegressor\n",
    "from sklearn.metrics import r2_score"
   ]
  },
  {
   "cell_type": "code",
   "execution_count": 19,
   "metadata": {},
   "outputs": [],
   "source": [
    "X = df_obs.drop(columns=[\"recovery\", \"medication\"]).values\n",
    "Y = df_obs[\"recovery\"].values\n",
    "D = df_obs[\"medication\"].values"
   ]
  },
  {
   "cell_type": "code",
   "execution_count": 20,
   "metadata": {},
   "outputs": [
    {
     "name": "stdout",
     "output_type": "stream",
     "text": [
      "Causal Effect: -0.960112878822859\n"
     ]
    }
   ],
   "source": [
    "np.random.seed(42)\n",
    "Lhat = RandomForestRegressor(max_depth=5, n_estimators=100, n_jobs=-1).fit(X, Y).predict(X)\n",
    "Mhat = RandomForestRegressor(max_depth=5, n_estimators=100, n_jobs=-1).fit(X, D).predict(X)\n",
    "\n",
    "theta = np.dot((D - Mhat), (Y - Lhat)) / np.dot(D - Mhat, D - Mhat)\n",
    "\n",
    "print(\"Causal Effect:\", theta)"
   ]
  },
  {
   "cell_type": "code",
   "execution_count": 21,
   "metadata": {},
   "outputs": [
    {
     "name": "stdout",
     "output_type": "stream",
     "text": [
      "[-0.96011223]\n"
     ]
    }
   ],
   "source": [
    "from sklearn.linear_model import LinearRegression\n",
    "\n",
    "model = LinearRegression()\n",
    "model.fit((D - Mhat).reshape(-1,1), Y - Lhat)\n",
    "\n",
    "print(model.coef_)"
   ]
  },
  {
   "cell_type": "markdown",
   "metadata": {},
   "source": [
    "## With Sample Splitting"
   ]
  },
  {
   "cell_type": "code",
   "execution_count": 22,
   "metadata": {},
   "outputs": [],
   "source": [
    "import numpy as np\n",
    "from sklearn.model_selection import KFold\n",
    "\n",
    "kf = KFold(n_splits=5)\n",
    "\n",
    "thetas = []\n",
    "\n",
    "np.random.seed(42)\n",
    "for train, test in kf.split(X):\n",
    "    \n",
    "    Ghat = RandomForestRegressor(max_depth=5, n_estimators=100, n_jobs=-1).fit(X[train],Y[train]).predict(X[test])\n",
    "    Mhat = RandomForestRegressor(max_depth=5, n_estimators=100, n_jobs=-1).fit(X[train],D[train]).predict(X[test])\n",
    "    \n",
    "    Vhat = D[test] - Mhat\n",
    "    Uhat = Y[test] - Ghat\n",
    "    \n",
    "    thetas += [np.mean(np.dot(Vhat,Uhat))/np.mean(np.dot(Vhat,Vhat))]\n"
   ]
  },
  {
   "cell_type": "code",
   "execution_count": 23,
   "metadata": {},
   "outputs": [
    {
     "name": "stdout",
     "output_type": "stream",
     "text": [
      "Causal Effect: -0.9794459105274222\n"
     ]
    }
   ],
   "source": [
    "print(\"Causal Effect:\", np.mean(thetas))"
   ]
  },
  {
   "cell_type": "code",
   "execution_count": 24,
   "metadata": {},
   "outputs": [
    {
     "data": {
      "text/plain": [
       "(array([1., 0., 0., 1., 0., 1., 1., 1.]),\n",
       " array([-1.02696507, -1.016733  , -1.00650092, -0.99626885, -0.98603678,\n",
       "        -0.9758047 , -0.96557263, -0.95534056, -0.94510849]),\n",
       " <a list of 8 Patch objects>)"
      ]
     },
     "execution_count": 24,
     "metadata": {},
     "output_type": "execute_result"
    },
    {
     "data": {
      "image/png": "[encoded data removed]",
      "text/plain": [
       "<Figure size 432x288 with 1 Axes>"
      ]
     },
     "metadata": {
      "needs_background": "light"
     },
     "output_type": "display_data"
    }
   ],
   "source": [
    "plt.hist(thetas, bins=8)"
   ]
  },
  {
   "cell_type": "code",
   "execution_count": null,
   "metadata": {},
   "outputs": [],
   "source": []
  }
 ],
 "metadata": {
  "kernelspec": {
   "display_name": "Python 3",
   "language": "python",
   "name": "python3"
  },
  "language_info": {
   "codemirror_mode": {
    "name": "ipython",
    "version": 3
   },
   "file_extension": ".py",
   "mimetype": "text/x-python",
   "name": "python",
   "nbconvert_exporter": "python",
   "pygments_lexer": "ipython3",
   "version": "3.6.8"
  }
 },
 "nbformat": 4,
 "nbformat_minor": 2
}
